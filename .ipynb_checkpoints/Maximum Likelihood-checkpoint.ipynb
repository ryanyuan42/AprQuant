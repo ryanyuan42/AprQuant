{
 "cells": [
  {
   "cell_type": "code",
   "execution_count": 2,
   "metadata": {
    "collapsed": true
   },
   "outputs": [],
   "source": [
    "import statsmodels.api as sm\n",
    "import numpy as np"
   ]
  },
  {
   "cell_type": "code",
   "execution_count": null,
   "metadata": {
    "collapsed": true
   },
   "outputs": [],
   "source": []
  },
  {
   "cell_type": "code",
   "execution_count": null,
   "metadata": {
    "collapsed": true
   },
   "outputs": [],
   "source": [
    "def likelihood(wrapper):\n",
    "    \"\"\"\n",
    "    here is the conditional likelihood funciton of AR(p) process,\n",
    "    Specific formula, please refer to:\n",
    "    http://econ.nsysu.edu.tw/ezfiles/124/1124/img/Chapter17_MaximumLikelihoodEstimation.pdf\n",
    "    Parmameter\n",
    "    ----------\n",
    "    phi: array-like, phi_1, phi_2, ..., phi_p\n",
    "    sigma: int, the standard deviation of the white noise(normal distribution)\n",
    "    c: int, constant of the AR(p) process\n",
    "    \"\"\"\n",
    "    phi, sigma, c = wrapper[0], wrapper[1], wrapper[2]\n",
    "    \n",
    "    "
   ]
  }
 ],
 "metadata": {
  "anaconda-cloud": {},
  "kernelspec": {
   "display_name": "Python [conda root]",
   "language": "python",
   "name": "conda-root-py"
  },
  "language_info": {
   "codemirror_mode": {
    "name": "ipython",
    "version": 3
   },
   "file_extension": ".py",
   "mimetype": "text/x-python",
   "name": "python",
   "nbconvert_exporter": "python",
   "pygments_lexer": "ipython3",
   "version": "3.5.2"
  }
 },
 "nbformat": 4,
 "nbformat_minor": 1
}

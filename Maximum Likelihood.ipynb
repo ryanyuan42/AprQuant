{
 "cells": [
  {
   "cell_type": "code",
   "execution_count": 2,
   "metadata": {
    "collapsed": true
   },
   "outputs": [],
   "source": [
    "import statsmodels.api as sm\n",
    "import numpy as np\n",
    "import random\n",
    "import scipy.optimize as spo"
   ]
  },
  {
   "cell_type": "code",
   "execution_count": 23,
   "metadata": {
    "collapsed": false
   },
   "outputs": [],
   "source": [
    "ar = [1, 0.5]\n",
    "p = 1\n",
    "y = sm.tsa.arma_generate_sample(ar,ma=[1], nsample=1000, sigma=0.3)"
   ]
  },
  {
   "cell_type": "code",
   "execution_count": 27,
   "metadata": {
    "collapsed": true
   },
   "outputs": [],
   "source": [
    "def likelihood(wrapper):\n",
    "    \"\"\"\n",
    "    here is the conditional likelihood funciton of AR(p) process,\n",
    "    Specific formula, please refer to:\n",
    "    http://econ.nsysu.edu.tw/ezfiles/124/1124/img/Chapter17_MaximumLikelihoodEstimation.pdf\n",
    "    Parmameter\n",
    "    ----------\n",
    "    phi: array-like, phi_1, phi_2, ..., phi_p\n",
    "    sigma: int, the standard deviation of the white noise(normal distribution)\n",
    "    c: int, constant of the AR(p) process\n",
    "    \"\"\"\n",
    "    phi = np.array([phi_ for phi_ in wrapper[:p]])\n",
    "    sigma = wrapper[p]\n",
    "    # c = wrapper[p+1]\n",
    "    c = 0\n",
    "    \n",
    "    T = len(y)\n",
    "\n",
    "    second_part = (T-p) * np.log(sigma)\n",
    "    resids = 0\n",
    "    for i in range(p, T):\n",
    "        resids += (y[i] - c - np.dot(phi, y[i-p: i])) ** 2 \n",
    "    resids = resids * 0.5 / (sigma ** 2)\n",
    "    return second_part + resids"
   ]
  },
  {
   "cell_type": "code",
   "execution_count": 71,
   "metadata": {
    "collapsed": false
   },
   "outputs": [],
   "source": [
    "phis = np.linspace(0.1, 0.8, 20)\n",
    "sigmas = np.linspace(0.1, 0.8, 20)"
   ]
  },
  {
   "cell_type": "code",
   "execution_count": 72,
   "metadata": {
    "collapsed": false
   },
   "outputs": [],
   "source": [
    "z = []\n",
    "for phi_ in phis:\n",
    "    row = []\n",
    "    for sigma_ in sigmas:\n",
    "        row.append(likelihood([phi_, sigma_]))\n",
    "    z.append(row)"
   ]
  },
  {
   "cell_type": "code",
   "execution_count": 73,
   "metadata": {
    "collapsed": false
   },
   "outputs": [],
   "source": [
    "pd.DataFrame(z).to_csv('tmp.csv')"
   ]
  },
  {
   "cell_type": "code",
   "execution_count": 169,
   "metadata": {
    "collapsed": false
   },
   "outputs": [
    {
     "data": {
      "text/plain": [
       "      fun: -720.10923862530092\n",
       " hess_inv: <4x4 LbfgsInvHessProduct with dtype=float64>\n",
       "      jac: array([ -7.95807864e-05,   7.95807864e-05,  -1.03455022e-03,\n",
       "         1.25055521e-04])\n",
       "  message: b'CONVERGENCE: REL_REDUCTION_OF_F_<=_FACTR*EPSMCH'\n",
       "     nfev: 110\n",
       "      nit: 15\n",
       "   status: 0\n",
       "  success: True\n",
       "        x: array([-0.49171337, -0.47846321,  0.29477217, -0.0005881 ])"
      ]
     },
     "execution_count": 169,
     "metadata": {},
     "output_type": "execute_result"
    }
   ],
   "source": [
    "# init = [0.5, 0.5, 0.5, 0]\n",
    "init = np.array([random.random() for _ in range(p+2)])\n",
    "bounds = ((-1, 1), (-1,1), (0, None), (None, None))\n",
    "min_result = spo.minimize(likelihood, init, bounds=bounds, tol=1e-9, method='L-BFGS-B')\n",
    "min_result"
   ]
  },
  {
   "cell_type": "code",
   "execution_count": 70,
   "metadata": {
    "collapsed": false
   },
   "outputs": [
    {
     "data": {
      "text/plain": [
       "-0.47321052631578953"
      ]
     },
     "execution_count": 70,
     "metadata": {},
     "output_type": "execute_result"
    }
   ],
   "source": [
    "phis[5]"
   ]
  },
  {
   "cell_type": "code",
   "execution_count": 69,
   "metadata": {
    "collapsed": false
   },
   "outputs": [
    {
     "data": {
      "text/plain": [
       "0.3164736842105263"
      ]
     },
     "execution_count": 69,
     "metadata": {},
     "output_type": "execute_result"
    }
   ],
   "source": [
    "sigmas[6]"
   ]
  },
  {
   "cell_type": "code",
   "execution_count": 137,
   "metadata": {
    "collapsed": false
   },
   "outputs": [
    {
     "data": {
      "text/plain": [
       "array([ 0.54708393,  0.51399379,  0.58934674,  0.6950477 ])"
      ]
     },
     "execution_count": 137,
     "metadata": {},
     "output_type": "execute_result"
    }
   ],
   "source": [
    "np.array([random.random() for _ in range(p+2)])"
   ]
  },
  {
   "cell_type": "code",
   "execution_count": 86,
   "metadata": {
    "collapsed": false
   },
   "outputs": [],
   "source": [
    "phi_hat = min_result.x[:p]\n",
    "c_hat = min_result.x[-1]"
   ]
  },
  {
   "cell_type": "code",
   "execution_count": 119,
   "metadata": {
    "collapsed": false
   },
   "outputs": [],
   "source": [
    "errors = np.zeros(len(y))\n",
    "for i in range(p, len(y)):\n",
    "    errors[i] = y[i] - np.dot(phi_hat, y[i-p: i])"
   ]
  },
  {
   "cell_type": "code",
   "execution_count": 123,
   "metadata": {
    "collapsed": false
   },
   "outputs": [
    {
     "data": {
      "text/plain": [
       "((0, None), (0, None))"
      ]
     },
     "execution_count": 123,
     "metadata": {},
     "output_type": "execute_result"
    }
   ],
   "source": [
    "tuple([(0,None), (0,None)])"
   ]
  },
  {
   "cell_type": "code",
   "execution_count": 112,
   "metadata": {
    "collapsed": false
   },
   "outputs": [],
   "source": []
  },
  {
   "cell_type": "code",
   "execution_count": 118,
   "metadata": {
    "collapsed": false
   },
   "outputs": [
    {
     "data": {
      "text/plain": [
       "1000"
      ]
     },
     "execution_count": 118,
     "metadata": {},
     "output_type": "execute_result"
    }
   ],
   "source": []
  },
  {
   "cell_type": "code",
   "execution_count": 100,
   "metadata": {
    "collapsed": true
   },
   "outputs": [],
   "source": [
    "import matplotlib.pyplot as plt\n",
    "%matplotlib inline"
   ]
  },
  {
   "cell_type": "code",
   "execution_count": 42,
   "metadata": {
    "collapsed": false
   },
   "outputs": [
    {
     "name": "stdout",
     "output_type": "stream",
     "text": [
      "Aw, snap! We don't have an account for ''. Want to try again? You can authenticate with your email address or username. Sign in is not case sensitive.\n",
      "\n",
      "Don't have an account? plot.ly\n",
      "\n",
      "Questions? support@plot.ly\n"
     ]
    },
    {
     "ename": "PlotlyError",
     "evalue": "Because you didn't supply a 'file_id' in the call, we're assuming you're trying to snag a figure from a url. You supplied the url, '', we expected it to start with 'https://plot.ly'.\nRun help on this function for more information.",
     "output_type": "error",
     "traceback": [
      "\u001b[0;31m---------------------------------------------------------------------------\u001b[0m",
      "\u001b[0;31mPlotlyError\u001b[0m                               Traceback (most recent call last)",
      "\u001b[0;32m<ipython-input-42-d3db690b0a34>\u001b[0m in \u001b[0;36m<module>\u001b[0;34m()\u001b[0m\n\u001b[1;32m     26\u001b[0m )\n\u001b[1;32m     27\u001b[0m \u001b[0mfig\u001b[0m \u001b[1;33m=\u001b[0m \u001b[0mgo\u001b[0m\u001b[1;33m.\u001b[0m\u001b[0mFigure\u001b[0m\u001b[1;33m(\u001b[0m\u001b[0mdata\u001b[0m\u001b[1;33m=\u001b[0m\u001b[0mdata\u001b[0m\u001b[1;33m,\u001b[0m \u001b[0mlayout\u001b[0m\u001b[1;33m=\u001b[0m\u001b[0mlayout\u001b[0m\u001b[1;33m)\u001b[0m\u001b[1;33m\u001b[0m\u001b[0m\n\u001b[0;32m---> 28\u001b[0;31m \u001b[0mpy\u001b[0m\u001b[1;33m.\u001b[0m\u001b[0miplot\u001b[0m\u001b[1;33m(\u001b[0m\u001b[0mfig\u001b[0m\u001b[1;33m,\u001b[0m \u001b[0mfilename\u001b[0m\u001b[1;33m=\u001b[0m\u001b[1;34m'elevations-3d-surface'\u001b[0m\u001b[1;33m)\u001b[0m\u001b[1;33m\u001b[0m\u001b[0m\n\u001b[0m",
      "\u001b[0;32mC:\\Users\\ravan\\Anaconda3\\lib\\site-packages\\plotly\\plotly\\plotly.py\u001b[0m in \u001b[0;36miplot\u001b[0;34m(figure_or_data, **plot_options)\u001b[0m\n\u001b[1;32m    156\u001b[0m         \u001b[0membed_options\u001b[0m\u001b[1;33m[\u001b[0m\u001b[1;34m'height'\u001b[0m\u001b[1;33m]\u001b[0m \u001b[1;33m=\u001b[0m \u001b[0mstr\u001b[0m\u001b[1;33m(\u001b[0m\u001b[0membed_options\u001b[0m\u001b[1;33m[\u001b[0m\u001b[1;34m'height'\u001b[0m\u001b[1;33m]\u001b[0m\u001b[1;33m)\u001b[0m \u001b[1;33m+\u001b[0m \u001b[1;34m'px'\u001b[0m\u001b[1;33m\u001b[0m\u001b[0m\n\u001b[1;32m    157\u001b[0m \u001b[1;33m\u001b[0m\u001b[0m\n\u001b[0;32m--> 158\u001b[0;31m     \u001b[1;32mreturn\u001b[0m \u001b[0mtools\u001b[0m\u001b[1;33m.\u001b[0m\u001b[0membed\u001b[0m\u001b[1;33m(\u001b[0m\u001b[0murl\u001b[0m\u001b[1;33m,\u001b[0m \u001b[1;33m**\u001b[0m\u001b[0membed_options\u001b[0m\u001b[1;33m)\u001b[0m\u001b[1;33m\u001b[0m\u001b[0m\n\u001b[0m\u001b[1;32m    159\u001b[0m \u001b[1;33m\u001b[0m\u001b[0m\n\u001b[1;32m    160\u001b[0m \u001b[1;33m\u001b[0m\u001b[0m\n",
      "\u001b[0;32mC:\\Users\\ravan\\Anaconda3\\lib\\site-packages\\plotly\\tools.py\u001b[0m in \u001b[0;36membed\u001b[0;34m(file_owner_or_url, file_id, width, height)\u001b[0m\n\u001b[1;32m    388\u001b[0m         \u001b[1;32melse\u001b[0m\u001b[1;33m:\u001b[0m\u001b[1;33m\u001b[0m\u001b[0m\n\u001b[1;32m    389\u001b[0m             \u001b[0murl\u001b[0m \u001b[1;33m=\u001b[0m \u001b[0mfile_owner_or_url\u001b[0m\u001b[1;33m\u001b[0m\u001b[0m\n\u001b[0;32m--> 390\u001b[0;31m         \u001b[1;32mreturn\u001b[0m \u001b[0mPlotlyDisplay\u001b[0m\u001b[1;33m(\u001b[0m\u001b[0murl\u001b[0m\u001b[1;33m,\u001b[0m \u001b[0mwidth\u001b[0m\u001b[1;33m,\u001b[0m \u001b[0mheight\u001b[0m\u001b[1;33m)\u001b[0m\u001b[1;33m\u001b[0m\u001b[0m\n\u001b[0m\u001b[1;32m    391\u001b[0m     \u001b[1;32melse\u001b[0m\u001b[1;33m:\u001b[0m\u001b[1;33m\u001b[0m\u001b[0m\n\u001b[1;32m    392\u001b[0m         if (get_config_defaults()['plotly_domain']\n",
      "\u001b[0;32mC:\\Users\\ravan\\Anaconda3\\lib\\site-packages\\plotly\\tools.py\u001b[0m in \u001b[0;36m__init__\u001b[0;34m(self, url, width, height)\u001b[0m\n\u001b[1;32m   1363\u001b[0m         \u001b[1;32mdef\u001b[0m \u001b[0m__init__\u001b[0m\u001b[1;33m(\u001b[0m\u001b[0mself\u001b[0m\u001b[1;33m,\u001b[0m \u001b[0murl\u001b[0m\u001b[1;33m,\u001b[0m \u001b[0mwidth\u001b[0m\u001b[1;33m,\u001b[0m \u001b[0mheight\u001b[0m\u001b[1;33m)\u001b[0m\u001b[1;33m:\u001b[0m\u001b[1;33m\u001b[0m\u001b[0m\n\u001b[1;32m   1364\u001b[0m             \u001b[0mself\u001b[0m\u001b[1;33m.\u001b[0m\u001b[0mresource\u001b[0m \u001b[1;33m=\u001b[0m \u001b[0murl\u001b[0m\u001b[1;33m\u001b[0m\u001b[0m\n\u001b[0;32m-> 1365\u001b[0;31m             \u001b[0mself\u001b[0m\u001b[1;33m.\u001b[0m\u001b[0membed_code\u001b[0m \u001b[1;33m=\u001b[0m \u001b[0mget_embed\u001b[0m\u001b[1;33m(\u001b[0m\u001b[0murl\u001b[0m\u001b[1;33m,\u001b[0m \u001b[0mwidth\u001b[0m\u001b[1;33m=\u001b[0m\u001b[0mwidth\u001b[0m\u001b[1;33m,\u001b[0m \u001b[0mheight\u001b[0m\u001b[1;33m=\u001b[0m\u001b[0mheight\u001b[0m\u001b[1;33m)\u001b[0m\u001b[1;33m\u001b[0m\u001b[0m\n\u001b[0m\u001b[1;32m   1366\u001b[0m             \u001b[0msuper\u001b[0m\u001b[1;33m(\u001b[0m\u001b[0mPlotlyDisplay\u001b[0m\u001b[1;33m,\u001b[0m \u001b[0mself\u001b[0m\u001b[1;33m)\u001b[0m\u001b[1;33m.\u001b[0m\u001b[0m__init__\u001b[0m\u001b[1;33m(\u001b[0m\u001b[0mdata\u001b[0m\u001b[1;33m=\u001b[0m\u001b[0mself\u001b[0m\u001b[1;33m.\u001b[0m\u001b[0membed_code\u001b[0m\u001b[1;33m)\u001b[0m\u001b[1;33m\u001b[0m\u001b[0m\n\u001b[1;32m   1367\u001b[0m \u001b[1;33m\u001b[0m\u001b[0m\n",
      "\u001b[0;32mC:\\Users\\ravan\\Anaconda3\\lib\\site-packages\\plotly\\tools.py\u001b[0m in \u001b[0;36mget_embed\u001b[0;34m(file_owner_or_url, file_id, width, height)\u001b[0m\n\u001b[1;32m    293\u001b[0m                 \u001b[1;34m\"'{1}'.\"\u001b[0m\u001b[1;33m\u001b[0m\u001b[0m\n\u001b[1;32m    294\u001b[0m                 \u001b[1;34m\"\\nRun help on this function for more information.\"\u001b[0m\u001b[1;33m\u001b[0m\u001b[0m\n\u001b[0;32m--> 295\u001b[0;31m                 \"\".format(url, plotly_rest_url))\n\u001b[0m\u001b[1;32m    296\u001b[0m         \u001b[0murlsplit\u001b[0m \u001b[1;33m=\u001b[0m \u001b[0msix\u001b[0m\u001b[1;33m.\u001b[0m\u001b[0mmoves\u001b[0m\u001b[1;33m.\u001b[0m\u001b[0murllib\u001b[0m\u001b[1;33m.\u001b[0m\u001b[0mparse\u001b[0m\u001b[1;33m.\u001b[0m\u001b[0murlparse\u001b[0m\u001b[1;33m(\u001b[0m\u001b[0murl\u001b[0m\u001b[1;33m)\u001b[0m\u001b[1;33m\u001b[0m\u001b[0m\n\u001b[1;32m    297\u001b[0m         \u001b[0mfile_owner\u001b[0m \u001b[1;33m=\u001b[0m \u001b[0murlsplit\u001b[0m\u001b[1;33m.\u001b[0m\u001b[0mpath\u001b[0m\u001b[1;33m.\u001b[0m\u001b[0msplit\u001b[0m\u001b[1;33m(\u001b[0m\u001b[1;34m'/'\u001b[0m\u001b[1;33m)\u001b[0m\u001b[1;33m[\u001b[0m\u001b[1;36m1\u001b[0m\u001b[1;33m]\u001b[0m\u001b[1;33m.\u001b[0m\u001b[0msplit\u001b[0m\u001b[1;33m(\u001b[0m\u001b[1;34m'~'\u001b[0m\u001b[1;33m)\u001b[0m\u001b[1;33m[\u001b[0m\u001b[1;36m1\u001b[0m\u001b[1;33m]\u001b[0m\u001b[1;33m\u001b[0m\u001b[0m\n",
      "\u001b[0;31mPlotlyError\u001b[0m: Because you didn't supply a 'file_id' in the call, we're assuming you're trying to snag a figure from a url. You supplied the url, '', we expected it to start with 'https://plot.ly'.\nRun help on this function for more information."
     ]
    }
   ],
   "source": [
    "import plotly.plotly as py\n",
    "import plotly.graph_objs as go\n",
    "\n",
    "import pandas as pd\n",
    "\n",
    "# Read data from a csv\n",
    "\n",
    "z_data = pd.DataFrame(z)\n",
    "data = [\n",
    "    go.Surface(\n",
    "        z=z_data.as_matrix()\n",
    "    )\n",
    "]\n",
    "\n",
    "layout = go.Layout(\n",
    "    title='likelihood function',\n",
    "    autosize=False,\n",
    "    width=500,\n",
    "    height=500,\n",
    "    margin=dict(\n",
    "        l=65,\n",
    "        r=50,\n",
    "        b=65,\n",
    "        t=90\n",
    "    )\n",
    ")\n",
    "fig = go.Figure(data=data, layout=layout)\n",
    "py.iplot(fig, filename='elevations-3d-surface')"
   ]
  },
  {
   "cell_type": "code",
   "execution_count": 48,
   "metadata": {
    "collapsed": false
   },
   "outputs": [
    {
     "data": {
      "text/plain": [
       "[[55166806.266422033,\n",
       "  -539.07326494562722,\n",
       "  -441.01357064766933,\n",
       "  -146.75275699622694,\n",
       "  101.71063347303141,\n",
       "  306.55436292646976,\n",
       "  478.84606973434182,\n",
       "  626.88883897151049,\n",
       "  756.41244548338523,\n",
       "  871.41479769112482,\n",
       "  974.76046198506356,\n",
       "  1068.5590617193964,\n",
       "  1154.4036266788421,\n",
       "  1233.5239338422414,\n",
       "  1306.8878190076209,\n",
       "  1375.269912060535,\n",
       "  1439.2994381689102,\n",
       "  1499.4942171571859,\n",
       "  1556.2853420973865,\n",
       "  1610.0354228062242],\n",
       " [49991321.094276682,\n",
       "  -613.27207776251055,\n",
       "  -459.63370983367935,\n",
       "  -155.03884900396559,\n",
       "  97.046756543994547,\n",
       "  303.56834796421066,\n",
       "  476.77192310962357,\n",
       "  625.36470048062381,\n",
       "  755.24536862195384,\n",
       "  870.49256556963735,\n",
       "  974.01339089600287,\n",
       "  1067.9416049439701,\n",
       "  1153.8847616024377,\n",
       "  1233.0818024176931,\n",
       "  1306.5065775242381,\n",
       "  1374.9377963498855,\n",
       "  1439.0075303519156,\n",
       "  1499.2356341498657,\n",
       "  1556.054686711097,\n",
       "  1609.8284033993384],\n",
       " [46077019.105662435,\n",
       "  -669.38982342335828,\n",
       "  -473.71641810542593,\n",
       "  -161.30575255888149,\n",
       "  93.519392030183468,\n",
       "  301.30997721904669,\n",
       "  475.20321293313464,\n",
       "  624.21197022879926,\n",
       "  754.36268977589066,\n",
       "  869.79506670585351,\n",
       "  973.44836911499488,\n",
       "  1067.4746125358104,\n",
       "  1153.4923356688607,\n",
       "  1232.747411368975,\n",
       "  1306.2182385092644,\n",
       "  1374.6866119404233,\n",
       "  1438.7867558137712,\n",
       "  1499.0400636968343,\n",
       "  1555.8802383633176,\n",
       "  1609.6718313197937],\n",
       " [43423900.300579615,\n",
       "  -707.4265019281662,\n",
       "  -483.26169546290794,\n",
       "  -165.55346766097404,\n",
       "  91.128539931598397,\n",
       "  299.77925069097813,\n",
       "  474.13993920487508,\n",
       "  623.43064821603696,\n",
       "  753.76440894519578,\n",
       "  869.32230109977309,\n",
       "  973.06539664203956,\n",
       "  1067.1580844949174,\n",
       "  1153.2263488781116,\n",
       "  1232.5207606960873,\n",
       "  1306.0228019627,\n",
       "  1374.5163588321484,\n",
       "  1438.637114554477,\n",
       "  1498.9075057980911,\n",
       "  1555.7619970540484,\n",
       "  1609.5657065675905],\n",
       " [42031964.679027937,\n",
       "  -727.38211327693818,\n",
       "  -488.26954190612628,\n",
       "  -167.78199431024376,\n",
       "  89.874200248239106,\n",
       "  298.97616838000476,\n",
       "  473.58210192484484,\n",
       "  623.02073444233679,\n",
       "  753.45052612986899,\n",
       "  869.07426875139606,\n",
       "  972.8644734771367,\n",
       "  1066.9920208212911,\n",
       "  1153.0868012301898,\n",
       "  1232.4018503990299,\n",
       "  1305.9202678845445,\n",
       "  1374.4270370250611,\n",
       "  1438.5586065740326,\n",
       "  1498.8379604536365,\n",
       "  1555.6999627832893,\n",
       "  1609.5100291427284],\n",
       " [41901212.241007648,\n",
       "  -729.2566574696707,\n",
       "  -488.73995743508021,\n",
       "  -167.99133250669021,\n",
       "  89.756372980105851,\n",
       "  298.90073028612682,\n",
       "  473.52970109304397,\n",
       "  622.98222890769887,\n",
       "  753.42104132991039,\n",
       "  869.05096966072256,\n",
       "  972.84559962028663,\n",
       "  1066.9764215149319,\n",
       "  1153.0736927250957,\n",
       "  1232.3906804778028,\n",
       "  1305.910636274798,\n",
       "  1374.418646519161,\n",
       "  1438.5512318724386,\n",
       "  1498.8314276634703,\n",
       "  1555.6941355510401,\n",
       "  1609.5047990452076],\n",
       " [43031642.986518666,\n",
       "  -713.05013450636511,\n",
       "  -484.67294204976997,\n",
       "  -166.18148225031354,\n",
       "  90.775058127198491,\n",
       "  299.55293640934411,\n",
       "  473.98273670947248,\n",
       "  623.3151316121232,\n",
       "  753.67595454532,\n",
       "  869.25240382775257,\n",
       "  973.00877507148903,\n",
       "  1067.1112865758391,\n",
       "  1153.1870233628292,\n",
       "  1232.4872509324059,\n",
       "  1305.9939071334604,\n",
       "  1374.4911873144483,\n",
       "  1438.6149904496947,\n",
       "  1498.8879074275926,\n",
       "  1555.7445153573012,\n",
       "  1609.5500162750279],\n",
       " [45423256.915560812,\n",
       "  -678.76254438702369,\n",
       "  -476.06849575019618,\n",
       "  -162.35244354111404,\n",
       "  92.93025568951694,\n",
       "  300.93278674965666,\n",
       "  474.94120877413025,\n",
       "  624.01944255560966,\n",
       "  754.21526577609779,\n",
       "  869.67857125248599,\n",
       "  973.3539998307441,\n",
       "  1067.3966160040131,\n",
       "  1153.4267931433903,\n",
       "  1232.6915617628392,\n",
       "  1306.1700804605321,\n",
       "  1374.6446594109232,\n",
       "  1438.7498823058008,\n",
       "  1499.0073997460033,\n",
       "  1555.8511022020721,\n",
       "  1609.6456808321898],\n",
       " [49076054.028134324,\n",
       "  -626.39388711164315,\n",
       "  -462.92661853635798,\n",
       "  -156.5042163790913,\n",
       "  96.22196566706134,\n",
       "  303.0402813070645,\n",
       "  476.40511728701739,\n",
       "  625.09516173815837,\n",
       "  755.03897502224379,\n",
       "  870.32947193492294,\n",
       "  973.88127389805186,\n",
       "  1067.8324097994537,\n",
       "  1153.7930020667791,\n",
       "  1233.003612969103,\n",
       "  1306.4391562560129,\n",
       "  1374.8790628085853,\n",
       "  1438.9559074407571,\n",
       "  1499.1899046187027,\n",
       "  1556.0138960853533,\n",
       "  1609.7917927166927],\n",
       " [53990034.324239127,\n",
       "  -555.94416268022474,\n",
       "  -445.24731040825571,\n",
       "  -148.63680076424549,\n",
       "  100.65018805983169,\n",
       "  305.87542008156771,\n",
       "  478.37446224813391,\n",
       "  626.54228915976921,\n",
       "  756.14708228375798,\n",
       "  871.2051058750634,\n",
       "  974.59059727341219,\n",
       "  1068.4186679621612,\n",
       "  1154.2856501329952,\n",
       "  1233.4234045511971,\n",
       "  1306.8011345199025,\n",
       "  1375.194397507435,\n",
       "  1439.2330658545634,\n",
       "  1499.4354220456905,\n",
       "  1556.2328970071446,\n",
       "  1609.9883519285368],\n",
       " [60165197.803875178,\n",
       "  -467.41337109276878,\n",
       "  -423.03057136588944,\n",
       "  -138.75019669657664,\n",
       "  106.21492286782789,\n",
       "  309.43820307316616,\n",
       "  480.84924365747975,\n",
       "  628.3608248204423,\n",
       "  757.53958756064037,\n",
       "  872.30547307290726,\n",
       "  975.48196995682508,\n",
       "  1069.1553904921354,\n",
       "  1154.904737342039,\n",
       "  1233.9509365091214,\n",
       "  1307.2560152522012,\n",
       "  1375.5906635074721,\n",
       "  1439.5813575472198,\n",
       "  1499.7439520269668,\n",
       "  1556.5081049674459,\n",
       "  1610.2353584677223],\n",
       " [67601544.46704267,\n",
       "  -360.80151234927268,\n",
       "  -396.27640140925854,\n",
       "  -126.84440417608445,\n",
       "  112.91617009105016,\n",
       "  313.72863028185998,\n",
       "  483.82946151505502,\n",
       "  630.55076872017764,\n",
       "  759.21649085289107,\n",
       "  873.63057352845453,\n",
       "  976.55539194829066,\n",
       "  1070.0425773893764,\n",
       "  1155.6502636939103,\n",
       "  1234.586208842876,\n",
       "  1307.8037984529092,\n",
       "  1376.0678608086964,\n",
       "  1440.0007825187265,\n",
       "  1500.1154945625315,\n",
       "  1556.8395199662573,\n",
       "  1610.532812334249],\n",
       " [76299074.313741252,\n",
       "  -236.10858644974132,\n",
       "  -364.9848005383642,\n",
       "  -112.91942320276947,\n",
       "  120.75392972949817,\n",
       "  318.74670170764898,\n",
       "  487.31511582085955,\n",
       "  633.11212085897512,\n",
       "  761.17779216050985,\n",
       "  875.18040724170544,\n",
       "  977.81086324780881,\n",
       "  1071.0802286538842,\n",
       "  1156.5222291886093,\n",
       "  1235.3292215524609,\n",
       "  1308.4444841220261,\n",
       "  1376.6259894111083,\n",
       "  1440.4913407690833,\n",
       "  1500.5500496523846,\n",
       "  1557.2271420035786,\n",
       "  1610.880713528117],\n",
       " [86257787.343971178,\n",
       "  -93.334593394171407,\n",
       "  -329.15576875320556,\n",
       "  -96.97525377663132,\n",
       "  129.72820178317212,\n",
       "  324.49241735053334,\n",
       "  491.30620657489351,\n",
       "  636.04488123683473,\n",
       "  763.42349148349683,\n",
       "  876.95497421265964,\n",
       "  979.24838385537964,\n",
       "  1072.2683442856585,\n",
       "  1157.520633826136,\n",
       "  1236.1799746378763,\n",
       "  1309.178072259552,\n",
       "  1377.2650493147075,\n",
       "  1441.05303229829,\n",
       "  1501.0476172965264,\n",
       "  1557.6709710794103,\n",
       "  1611.2790620493261],\n",
       " [97477683.557732373,\n",
       "  67.520466817436272,\n",
       "  -288.78930605378287,\n",
       "  -79.011895897670115,\n",
       "  139.838986252072,\n",
       "  330.96577721051295,\n",
       "  495.80273377715673,\n",
       "  639.34904985375658,\n",
       "  765.95358882185189,\n",
       "  878.95427444131747,\n",
       "  980.86795377100304,\n",
       "  1073.6069242846997,\n",
       "  1158.6454776064902,\n",
       "  1237.1384680991216,\n",
       "  1310.0045628654868,\n",
       "  1377.9850405194943,\n",
       "  1441.6858571063469,\n",
       "  1501.6081974949566,\n",
       "  1558.1710071937518,\n",
       "  1611.7278578978764],\n",
       " [109958762.95502479,\n",
       "  246.45659418508103,\n",
       "  -243.88541244009633,\n",
       "  -59.029349565885894,\n",
       "  151.08628313619772,\n",
       "  338.16678128758787,\n",
       "  500.80469742764933,\n",
       "  643.02462670974069,\n",
       "  768.76808417557527,\n",
       "  881.1783079276787,\n",
       "  982.66957299467913,\n",
       "  1075.0959686510075,\n",
       "  1159.8967605296718,\n",
       "  1238.2047019361976,\n",
       "  1310.9239559398309,\n",
       "  1378.7859630254684,\n",
       "  1442.389815193254,\n",
       "  1502.2317902476752,\n",
       "  1558.7272503466036,\n",
       "  1612.2271010737682],\n",
       " [123701025.53584845,\n",
       "  443.47378870876332,\n",
       "  -194.44408791214585,\n",
       "  -37.027614781278658,\n",
       "  163.47009243554933,\n",
       "  346.09542958175803,\n",
       "  506.31209752637125,\n",
       "  647.07161180478693,\n",
       "  771.86697754466684,\n",
       "  883.62707467174334,\n",
       "  984.65324152640778,\n",
       "  1076.7354773845823,\n",
       "  1161.2744825956811,\n",
       "  1239.3786761491035,\n",
       "  1311.9362514825841,\n",
       "  1379.6678168326298,\n",
       "  1443.1649065590113,\n",
       "  1502.9183955546823,\n",
       "  1559.3397005379654,\n",
       "  1612.7767915770012],\n",
       " [138704471.30020338,\n",
       "  658.57205038848292,\n",
       "  -140.4653324699313,\n",
       "  -13.006691543848405,\n",
       "  176.99041415012681,\n",
       "  354.75172209302349,\n",
       "  512.32493407332254,\n",
       "  651.49000513889541,\n",
       "  775.25026892912649,\n",
       "  886.30057467351151,\n",
       "  986.81895936618912,\n",
       "  1078.5254504854236,\n",
       "  1162.7786438045182,\n",
       "  1240.6603907378399,\n",
       "  1313.0414494937461,\n",
       "  1380.6306019409787,\n",
       "  1444.0111312036186,\n",
       "  1503.6680134159778,\n",
       "  1560.0083577678372,\n",
       "  1613.3769294075753],\n",
       " [154969100.24808967,\n",
       "  891.75137922424187,\n",
       "  -81.949146113452457,\n",
       "  13.033420146405092,\n",
       "  191.6472482799303,\n",
       "  364.13565882138431,\n",
       "  518.84320706850315,\n",
       "  656.27980671206603,\n",
       "  778.91795832895446,\n",
       "  889.19880793298319,\n",
       "  989.16672651402291,\n",
       "  1080.4658879535316,\n",
       "  1164.4092441561825,\n",
       "  1242.0498457024066,\n",
       "  1314.2395499733173,\n",
       "  1381.674318350515,\n",
       "  1444.9284891270759,\n",
       "  1504.480643831562,\n",
       "  1560.7332220362191,\n",
       "  1614.0275145654907],\n",
       " [172494912.37950781,\n",
       "  1143.0117752160465,\n",
       "  -18.895528842707449,\n",
       "  41.092720289482543,\n",
       "  207.44059482496016,\n",
       "  374.24723976684072,\n",
       "  525.86691651191336,\n",
       "  661.44101652429902,\n",
       "  782.87004574415073,\n",
       "  892.32177445015839,\n",
       "  991.69654296990961,\n",
       "  1082.5567897889066,\n",
       "  1166.1662836506746,\n",
       "  1243.5470410428036,\n",
       "  1315.5305529212976,\n",
       "  1382.7989660612388,\n",
       "  1445.9169803293835,\n",
       "  1505.3562868014346,\n",
       "  1561.5142933431111,\n",
       "  1614.7285470507475]]"
      ]
     },
     "execution_count": 48,
     "metadata": {},
     "output_type": "execute_result"
    }
   ],
   "source": [
    "z"
   ]
  },
  {
   "cell_type": "code",
   "execution_count": null,
   "metadata": {
    "collapsed": true
   },
   "outputs": [],
   "source": []
  }
 ],
 "metadata": {
  "anaconda-cloud": {},
  "kernelspec": {
   "display_name": "Python [conda root]",
   "language": "python",
   "name": "conda-root-py"
  },
  "language_info": {
   "codemirror_mode": {
    "name": "ipython",
    "version": 3
   },
   "file_extension": ".py",
   "mimetype": "text/x-python",
   "name": "python",
   "nbconvert_exporter": "python",
   "pygments_lexer": "ipython3",
   "version": "3.5.2"
  }
 },
 "nbformat": 4,
 "nbformat_minor": 1
}
